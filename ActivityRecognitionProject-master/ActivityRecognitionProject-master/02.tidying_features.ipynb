{
 "cells": [
  {
   "cell_type": "code",
   "execution_count": 1,
   "metadata": {
    "collapsed": false
   },
   "outputs": [
    {
     "data": {
      "text/html": [
       "<ol class=list-inline>\n",
       "\t<li>\"\\\"V1\\\" \\\"V2\\\" \\\"V3\\\" \\\"id\\\" \\\"activity\\\" \\\"date\\\" \\\"time\\\" \\\"sex\\\"\"</li>\n",
       "\t<li>\"\\\"1\\\" -4.43604761904762 8.17166666666667 1.63433333333333 \\\"f1\\\" \\\"brush_teeth\\\" \\\"2011-04-11\\\" \\\"13:28:18\\\" 0\"</li>\n",
       "\t<li>\"\\\"2\\\" -4.43604761904762 8.17166666666667 1.63433333333333 \\\"f1\\\" \\\"brush_teeth\\\" \\\"2011-04-11\\\" \\\"13:28:18\\\" 0\"</li>\n",
       "\t<li>\"\\\"3\\\" -4.43604761904762 9.57252380952381 1.63433333333333 \\\"f1\\\" \\\"brush_teeth\\\" \\\"2011-04-11\\\" \\\"13:28:18\\\" 0\"</li>\n",
       "\t<li>\"\\\"4\\\" -4.43604761904762 9.57252380952381 1.63433333333333 \\\"f1\\\" \\\"brush_teeth\\\" \\\"2011-04-11\\\" \\\"13:28:18\\\" 0\"</li>\n",
       "\t<li>\"\\\"5\\\" -4.903 9.57252380952381 1.16738095238095 \\\"f1\\\" \\\"brush_teeth\\\" \\\"2011-04-11\\\" \\\"13:28:18\\\" 0\"</li>\n",
       "\t<li>\"\\\"6\\\" -4.43604761904762 9.10557142857143 1.16738095238095 \\\"f1\\\" \\\"brush_teeth\\\" \\\"2011-04-11\\\" \\\"13:28:18\\\" 0\"</li>\n",
       "\t<li>\"\\\"7\\\" -5.36995238095238 8.63861904761904 1.63433333333333 \\\"f1\\\" \\\"brush_teeth\\\" \\\"2011-04-11\\\" \\\"13:28:18\\\" 0\"</li>\n",
       "\t<li>\"\\\"8\\\" -4.43604761904762 9.57252380952381 1.16738095238095 \\\"f1\\\" \\\"brush_teeth\\\" \\\"2011-04-11\\\" \\\"13:28:18\\\" 0\"</li>\n",
       "\t<li>\"\\\"9\\\" -4.43604761904762 8.63861904761904 1.16738095238095 \\\"f1\\\" \\\"brush_teeth\\\" \\\"2011-04-11\\\" \\\"13:28:18\\\" 0\"</li>\n",
       "</ol>\n"
      ],
      "text/latex": [
       "\\begin{enumerate*}\n",
       "\\item \"\\\"V1\\\" \\\"V2\\\" \\\"V3\\\" \\\"id\\\" \\\"activity\\\" \\\"date\\\" \\\"time\\\" \\\"sex\\\"\"\n",
       "\\item \"\\\"1\\\" -4.43604761904762 8.17166666666667 1.63433333333333 \\\"f1\\\" \\\"brush_teeth\\\" \\\"2011-04-11\\\" \\\"13:28:18\\\" 0\"\n",
       "\\item \"\\\"2\\\" -4.43604761904762 8.17166666666667 1.63433333333333 \\\"f1\\\" \\\"brush_teeth\\\" \\\"2011-04-11\\\" \\\"13:28:18\\\" 0\"\n",
       "\\item \"\\\"3\\\" -4.43604761904762 9.57252380952381 1.63433333333333 \\\"f1\\\" \\\"brush_teeth\\\" \\\"2011-04-11\\\" \\\"13:28:18\\\" 0\"\n",
       "\\item \"\\\"4\\\" -4.43604761904762 9.57252380952381 1.63433333333333 \\\"f1\\\" \\\"brush_teeth\\\" \\\"2011-04-11\\\" \\\"13:28:18\\\" 0\"\n",
       "\\item \"\\\"5\\\" -4.903 9.57252380952381 1.16738095238095 \\\"f1\\\" \\\"brush_teeth\\\" \\\"2011-04-11\\\" \\\"13:28:18\\\" 0\"\n",
       "\\item \"\\\"6\\\" -4.43604761904762 9.10557142857143 1.16738095238095 \\\"f1\\\" \\\"brush_teeth\\\" \\\"2011-04-11\\\" \\\"13:28:18\\\" 0\"\n",
       "\\item \"\\\"7\\\" -5.36995238095238 8.63861904761904 1.63433333333333 \\\"f1\\\" \\\"brush_teeth\\\" \\\"2011-04-11\\\" \\\"13:28:18\\\" 0\"\n",
       "\\item \"\\\"8\\\" -4.43604761904762 9.57252380952381 1.16738095238095 \\\"f1\\\" \\\"brush_teeth\\\" \\\"2011-04-11\\\" \\\"13:28:18\\\" 0\"\n",
       "\\item \"\\\"9\\\" -4.43604761904762 8.63861904761904 1.16738095238095 \\\"f1\\\" \\\"brush_teeth\\\" \\\"2011-04-11\\\" \\\"13:28:18\\\" 0\"\n",
       "\\end{enumerate*}\n"
      ],
      "text/markdown": [
       "1. \"\\\"V1\\\" \\\"V2\\\" \\\"V3\\\" \\\"id\\\" \\\"activity\\\" \\\"date\\\" \\\"time\\\" \\\"sex\\\"\"\n",
       "2. \"\\\"1\\\" -4.43604761904762 8.17166666666667 1.63433333333333 \\\"f1\\\" \\\"brush_teeth\\\" \\\"2011-04-11\\\" \\\"13:28:18\\\" 0\"\n",
       "3. \"\\\"2\\\" -4.43604761904762 8.17166666666667 1.63433333333333 \\\"f1\\\" \\\"brush_teeth\\\" \\\"2011-04-11\\\" \\\"13:28:18\\\" 0\"\n",
       "4. \"\\\"3\\\" -4.43604761904762 9.57252380952381 1.63433333333333 \\\"f1\\\" \\\"brush_teeth\\\" \\\"2011-04-11\\\" \\\"13:28:18\\\" 0\"\n",
       "5. \"\\\"4\\\" -4.43604761904762 9.57252380952381 1.63433333333333 \\\"f1\\\" \\\"brush_teeth\\\" \\\"2011-04-11\\\" \\\"13:28:18\\\" 0\"\n",
       "6. \"\\\"5\\\" -4.903 9.57252380952381 1.16738095238095 \\\"f1\\\" \\\"brush_teeth\\\" \\\"2011-04-11\\\" \\\"13:28:18\\\" 0\"\n",
       "7. \"\\\"6\\\" -4.43604761904762 9.10557142857143 1.16738095238095 \\\"f1\\\" \\\"brush_teeth\\\" \\\"2011-04-11\\\" \\\"13:28:18\\\" 0\"\n",
       "8. \"\\\"7\\\" -5.36995238095238 8.63861904761904 1.63433333333333 \\\"f1\\\" \\\"brush_teeth\\\" \\\"2011-04-11\\\" \\\"13:28:18\\\" 0\"\n",
       "9. \"\\\"8\\\" -4.43604761904762 9.57252380952381 1.16738095238095 \\\"f1\\\" \\\"brush_teeth\\\" \\\"2011-04-11\\\" \\\"13:28:18\\\" 0\"\n",
       "10. \"\\\"9\\\" -4.43604761904762 8.63861904761904 1.16738095238095 \\\"f1\\\" \\\"brush_teeth\\\" \\\"2011-04-11\\\" \\\"13:28:18\\\" 0\"\n",
       "\n",
       "\n"
      ],
      "text/plain": [
       " [1] \"\\\"V1\\\" \\\"V2\\\" \\\"V3\\\" \\\"id\\\" \\\"activity\\\" \\\"date\\\" \\\"time\\\" \\\"sex\\\"\"                                            \n",
       " [2] \"\\\"1\\\" -4.43604761904762 8.17166666666667 1.63433333333333 \\\"f1\\\" \\\"brush_teeth\\\" \\\"2011-04-11\\\" \\\"13:28:18\\\" 0\"\n",
       " [3] \"\\\"2\\\" -4.43604761904762 8.17166666666667 1.63433333333333 \\\"f1\\\" \\\"brush_teeth\\\" \\\"2011-04-11\\\" \\\"13:28:18\\\" 0\"\n",
       " [4] \"\\\"3\\\" -4.43604761904762 9.57252380952381 1.63433333333333 \\\"f1\\\" \\\"brush_teeth\\\" \\\"2011-04-11\\\" \\\"13:28:18\\\" 0\"\n",
       " [5] \"\\\"4\\\" -4.43604761904762 9.57252380952381 1.63433333333333 \\\"f1\\\" \\\"brush_teeth\\\" \\\"2011-04-11\\\" \\\"13:28:18\\\" 0\"\n",
       " [6] \"\\\"5\\\" -4.903 9.57252380952381 1.16738095238095 \\\"f1\\\" \\\"brush_teeth\\\" \\\"2011-04-11\\\" \\\"13:28:18\\\" 0\"           \n",
       " [7] \"\\\"6\\\" -4.43604761904762 9.10557142857143 1.16738095238095 \\\"f1\\\" \\\"brush_teeth\\\" \\\"2011-04-11\\\" \\\"13:28:18\\\" 0\"\n",
       " [8] \"\\\"7\\\" -5.36995238095238 8.63861904761904 1.63433333333333 \\\"f1\\\" \\\"brush_teeth\\\" \\\"2011-04-11\\\" \\\"13:28:18\\\" 0\"\n",
       " [9] \"\\\"8\\\" -4.43604761904762 9.57252380952381 1.16738095238095 \\\"f1\\\" \\\"brush_teeth\\\" \\\"2011-04-11\\\" \\\"13:28:18\\\" 0\"\n",
       "[10] \"\\\"9\\\" -4.43604761904762 8.63861904761904 1.16738095238095 \\\"f1\\\" \\\"brush_teeth\\\" \\\"2011-04-11\\\" \\\"13:28:18\\\" 0\""
      ]
     },
     "execution_count": 1,
     "metadata": {},
     "output_type": "execute_result"
    }
   ],
   "source": [
    "readLines(\"data_combined.csv\",n=10)"
   ]
  },
  {
   "cell_type": "code",
   "execution_count": 22,
   "metadata": {
    "collapsed": true
   },
   "outputs": [],
   "source": [
    "df <- read.table(\"data_combined.csv\",sep=\" \",header=TRUE, stringsAsFactors = TRUE)"
   ]
  },
  {
   "cell_type": "code",
   "execution_count": 23,
   "metadata": {
    "collapsed": false
   },
   "outputs": [
    {
     "name": "stdout",
     "output_type": "stream",
     "text": [
      "'data.frame':\t479289 obs. of  8 variables:\n",
      " $ V1      : num  -4.44 -4.44 -4.44 -4.44 -4.9 ...\n",
      " $ V2      : num  8.17 8.17 9.57 9.57 9.57 ...\n",
      " $ V3      : num  1.63 1.63 1.63 1.63 1.17 ...\n",
      " $ id      : Factor w/ 27 levels \"f1\",\"f1_1\",\"f1_2\",..: 1 1 1 1 1 1 1 1 1 1 ...\n",
      " $ activity: Factor w/ 14 levels \"brush_teeth\",..: 1 1 1 1 1 1 1 1 1 1 ...\n",
      " $ date    : Factor w/ 26 levels \"2011-03-23\",\"2011-03-24\",..: 6 6 6 6 6 6 6 6 6 6 ...\n",
      " $ time    : Factor w/ 836 levels \"03:44:39\",\"03:45:26\",..: 308 308 308 308 308 308 308 308 308 308 ...\n",
      " $ sex     : int  0 0 0 0 0 0 0 0 0 0 ...\n"
     ]
    }
   ],
   "source": [
    "str(df)"
   ]
  },
  {
   "cell_type": "code",
   "execution_count": 24,
   "metadata": {
    "collapsed": false
   },
   "outputs": [
    {
     "data": {
      "text/html": [
       "<table>\n",
       "<thead><tr><th></th><th scope=col>V1</th><th scope=col>V2</th><th scope=col>V3</th><th scope=col>id</th><th scope=col>activity</th><th scope=col>date</th><th scope=col>time</th><th scope=col>sex</th></tr></thead>\n",
       "<tbody>\n",
       "\t<tr><th scope=row>1</th><td>-4.436048</td><td>8.171667</td><td>1.634333</td><td>f1</td><td>brush_teeth</td><td>2011-04-11</td><td>13:28:18</td><td>0</td></tr>\n",
       "\t<tr><th scope=row>2</th><td>-4.436048</td><td>8.171667</td><td>1.634333</td><td>f1</td><td>brush_teeth</td><td>2011-04-11</td><td>13:28:18</td><td>0</td></tr>\n",
       "\t<tr><th scope=row>3</th><td>-4.436048</td><td>9.572524</td><td>1.634333</td><td>f1</td><td>brush_teeth</td><td>2011-04-11</td><td>13:28:18</td><td>0</td></tr>\n",
       "\t<tr><th scope=row>4</th><td>-4.436048</td><td>9.572524</td><td>1.634333</td><td>f1</td><td>brush_teeth</td><td>2011-04-11</td><td>13:28:18</td><td>0</td></tr>\n",
       "\t<tr><th scope=row>5</th><td>-4.903</td><td>9.572524</td><td>1.167381</td><td>f1</td><td>brush_teeth</td><td>2011-04-11</td><td>13:28:18</td><td>0</td></tr>\n",
       "\t<tr><th scope=row>6</th><td>-4.436048</td><td>9.105571</td><td>1.167381</td><td>f1</td><td>brush_teeth</td><td>2011-04-11</td><td>13:28:18</td><td>0</td></tr>\n",
       "</tbody>\n",
       "</table>\n"
      ],
      "text/latex": [
       "\\begin{tabular}{r|llllllll}\n",
       "  & V1 & V2 & V3 & id & activity & date & time & sex\\\\\n",
       "\\hline\n",
       "\t1 & -4.436048 & 8.171667 & 1.634333 & f1 & brush_teeth & 2011-04-11 & 13:28:18 & 0\\\\\n",
       "\t2 & -4.436048 & 8.171667 & 1.634333 & f1 & brush_teeth & 2011-04-11 & 13:28:18 & 0\\\\\n",
       "\t3 & -4.436048 & 9.572524 & 1.634333 & f1 & brush_teeth & 2011-04-11 & 13:28:18 & 0\\\\\n",
       "\t4 & -4.436048 & 9.572524 & 1.634333 & f1 & brush_teeth & 2011-04-11 & 13:28:18 & 0\\\\\n",
       "\t5 & -4.903 & 9.572524 & 1.167381 & f1 & brush_teeth & 2011-04-11 & 13:28:18 & 0\\\\\n",
       "\t6 & -4.436048 & 9.105571 & 1.167381 & f1 & brush_teeth & 2011-04-11 & 13:28:18 & 0\\\\\n",
       "\\end{tabular}\n"
      ],
      "text/plain": [
       "         V1       V2       V3 id    activity       date     time sex\n",
       "1 -4.436048 8.171667 1.634333 f1 brush_teeth 2011-04-11 13:28:18   0\n",
       "2 -4.436048 8.171667 1.634333 f1 brush_teeth 2011-04-11 13:28:18   0\n",
       "3 -4.436048 9.572524 1.634333 f1 brush_teeth 2011-04-11 13:28:18   0\n",
       "4 -4.436048 9.572524 1.634333 f1 brush_teeth 2011-04-11 13:28:18   0\n",
       "5 -4.903000 9.572524 1.167381 f1 brush_teeth 2011-04-11 13:28:18   0\n",
       "6 -4.436048 9.105571 1.167381 f1 brush_teeth 2011-04-11 13:28:18   0"
      ]
     },
     "execution_count": 24,
     "metadata": {},
     "output_type": "execute_result"
    }
   ],
   "source": [
    "head(df)"
   ]
  },
  {
   "cell_type": "code",
   "execution_count": 25,
   "metadata": {
    "collapsed": false
   },
   "outputs": [],
   "source": [
    "library(dplyr)\n",
    "#install.packages(\"moments\", repos='http://cran.us.r-project.org')\n"
   ]
  },
  {
   "cell_type": "code",
   "execution_count": 27,
   "metadata": {
    "collapsed": false
   },
   "outputs": [],
   "source": [
    "require(moments)"
   ]
  },
  {
   "cell_type": "code",
   "execution_count": 32,
   "metadata": {
    "collapsed": false
   },
   "outputs": [],
   "source": [
    "tidydata <- df %>%                \n",
    "            group_by(time, activity, sex) %>%\n",
    "                select(V1,V2,V3) %>%\n",
    "                summarize(\n",
    "                    meanx= mean(V1),\n",
    "                    meany= mean(V2),\n",
    "                    meanz= mean(V3),\n",
    "                    skewx=skewness(V1),\n",
    "                    skewy=skewness(V2),\n",
    "                    skewz=skewness(V3),\n",
    "                    kurtx=kurtosis(V1),\n",
    "                    kurty=kurtosis(V2),\n",
    "                    kurtz=kurtosis(V3),\n",
    "                    corxy=cor(V1,V2),\n",
    "                    coryz=cor(V2,V3),\n",
    "                    corxz=cor(V1,V3)\n",
    "                    \n",
    "                )"
   ]
  },
  {
   "cell_type": "code",
   "execution_count": 40,
   "metadata": {
    "collapsed": false
   },
   "outputs": [
    {
     "data": {
      "text/html": [
       "<ol class=list-inline>\n",
       "\t<li>839</li>\n",
       "\t<li>14</li>\n",
       "</ol>\n"
      ],
      "text/latex": [
       "\\begin{enumerate*}\n",
       "\\item 839\n",
       "\\item 14\n",
       "\\end{enumerate*}\n"
      ],
      "text/markdown": [
       "1. 839\n",
       "2. 14\n",
       "\n",
       "\n"
      ],
      "text/plain": [
       "[1] 839  14"
      ]
     },
     "execution_count": 40,
     "metadata": {},
     "output_type": "execute_result"
    }
   ],
   "source": [
    "dim(tidydata)"
   ]
  },
  {
   "cell_type": "code",
   "execution_count": 34,
   "metadata": {
    "collapsed": false,
    "scrolled": true
   },
   "outputs": [
    {
     "data": {
      "text/html": [
       "<table>\n",
       "<thead><tr><th></th><th scope=col>time</th><th scope=col>activity</th><th scope=col>sex</th><th scope=col>meanx</th><th scope=col>meany</th><th scope=col>meanz</th><th scope=col>skewx</th><th scope=col>skewy</th><th scope=col>skewz</th><th scope=col>kurtx</th><th scope=col>kurty</th><th scope=col>kurtz</th><th scope=col>corxy</th><th scope=col>coryz</th><th scope=col>corxz</th></tr></thead>\n",
       "<tbody>\n",
       "\t<tr><th scope=row>1</th><td>03:44:39</td><td>standup_chair</td><td>1</td><td>-3.577941</td><td>3.19708</td><td>7.293908</td><td>-0.02743029</td><td>0.1256692</td><td>-0.1331527</td><td>1.116679</td><td>1.511332</td><td>1.18265</td><td>-0.9221761</td><td>-0.9025038</td><td>0.9702177</td></tr>\n",
       "\t<tr><th scope=row>2</th><td>03:45:26</td><td>sitdown_chair</td><td>1</td><td>-3.164217</td><td>4.258892</td><td>6.826107</td><td>-0.1194712</td><td>0.5794308</td><td>-0.1097923</td><td>1.106795</td><td>3.38443</td><td>1.248554</td><td>0.6679544</td><td>0.6425899</td><td>0.96022</td></tr>\n",
       "\t<tr><th scope=row>3</th><td>03:46:21</td><td>pour_water</td><td>1</td><td>0.7739084</td><td>0.8936094</td><td>8.676544</td><td>0.4834989</td><td>-0.2466208</td><td>0.5049835</td><td>2.338528</td><td>1.282156</td><td>3.489376</td><td>0.7461314</td><td>0.1828762</td><td>0.1979201</td></tr>\n",
       "\t<tr><th scope=row>4</th><td>03:47:02</td><td>drink_glass</td><td>1</td><td>2.300959</td><td>3.311903</td><td>8.927909</td><td>0.4539398</td><td>-0.8603673</td><td>0.2220048</td><td>1.78886</td><td>2.139986</td><td>3.773488</td><td>-0.8746166</td><td>0.007853708</td><td>-0.06172179</td></tr>\n",
       "\t<tr><th scope=row>5</th><td>03:47:36</td><td>drink_glass</td><td>1</td><td>2.541931</td><td>3.663932</td><td>8.580743</td><td>0.2279045</td><td>-0.7378359</td><td>-1.342537</td><td>3.249835</td><td>2.044912</td><td>14.14306</td><td>-0.8632525</td><td>-0.2465573</td><td>0.2792758</td></tr>\n",
       "\t<tr><th scope=row>6</th><td>03:48:20</td><td>standup_chair</td><td>1</td><td>-5.170489</td><td>5.108228</td><td>5.11284</td><td>0.9050761</td><td>0.9603296</td><td>0.6652821</td><td>1.96315</td><td>3.165712</td><td>1.744554</td><td>0.8518449</td><td>0.858185</td><td>0.956636</td></tr>\n",
       "</tbody>\n",
       "</table>\n"
      ],
      "text/latex": [
       "\\begin{tabular}{r|lllllllllllllll}\n",
       "  & time & activity & sex & meanx & meany & meanz & skewx & skewy & skewz & kurtx & kurty & kurtz & corxy & coryz & corxz\\\\\n",
       "\\hline\n",
       "\t1 & 03:44:39 & standup_chair & 1 & -3.577941 & 3.19708 & 7.293908 & -0.02743029 & 0.1256692 & -0.1331527 & 1.116679 & 1.511332 & 1.18265 & -0.9221761 & -0.9025038 & 0.9702177\\\\\n",
       "\t2 & 03:45:26 & sitdown_chair & 1 & -3.164217 & 4.258892 & 6.826107 & -0.1194712 & 0.5794308 & -0.1097923 & 1.106795 & 3.38443 & 1.248554 & 0.6679544 & 0.6425899 & 0.96022\\\\\n",
       "\t3 & 03:46:21 & pour_water & 1 & 0.7739084 & 0.8936094 & 8.676544 & 0.4834989 & -0.2466208 & 0.5049835 & 2.338528 & 1.282156 & 3.489376 & 0.7461314 & 0.1828762 & 0.1979201\\\\\n",
       "\t4 & 03:47:02 & drink_glass & 1 & 2.300959 & 3.311903 & 8.927909 & 0.4539398 & -0.8603673 & 0.2220048 & 1.78886 & 2.139986 & 3.773488 & -0.8746166 & 0.007853708 & -0.06172179\\\\\n",
       "\t5 & 03:47:36 & drink_glass & 1 & 2.541931 & 3.663932 & 8.580743 & 0.2279045 & -0.7378359 & -1.342537 & 3.249835 & 2.044912 & 14.14306 & -0.8632525 & -0.2465573 & 0.2792758\\\\\n",
       "\t6 & 03:48:20 & standup_chair & 1 & -5.170489 & 5.108228 & 5.11284 & 0.9050761 & 0.9603296 & 0.6652821 & 1.96315 & 3.165712 & 1.744554 & 0.8518449 & 0.858185 & 0.956636\\\\\n",
       "\\end{tabular}\n"
      ],
      "text/plain": [
       "Source: local data frame [6 x 15]\n",
       "Groups: time, activity [6]\n",
       "\n",
       "      time      activity   sex      meanx     meany    meanz       skewx\n",
       "    (fctr)        (fctr) (int)      (dbl)     (dbl)    (dbl)       (dbl)\n",
       "1 03:44:39 standup_chair     1 -3.5779407 3.1970798 7.293908 -0.02743029\n",
       "2 03:45:26 sitdown_chair     1 -3.1642168 4.2588924 6.826107 -0.11947115\n",
       "3 03:46:21    pour_water     1  0.7739084 0.8936094 8.676544  0.48349893\n",
       "4 03:47:02   drink_glass     1  2.3009590 3.3119030 8.927909  0.45393983\n",
       "5 03:47:36   drink_glass     1  2.5419309 3.6639320 8.580743  0.22790451\n",
       "6 03:48:20 standup_chair     1 -5.1704888 5.1082285 5.112840  0.90507609\n",
       "Variables not shown: skewy (dbl), skewz (dbl), kurtx (dbl), kurty (dbl), kurtz\n",
       "  (dbl), corxy (dbl), coryz (dbl), corxz (dbl)"
      ]
     },
     "execution_count": 34,
     "metadata": {},
     "output_type": "execute_result"
    }
   ],
   "source": [
    "head(tidydata)"
   ]
  },
  {
   "cell_type": "code",
   "execution_count": 35,
   "metadata": {
    "collapsed": false
   },
   "outputs": [
    {
     "name": "stdout",
     "output_type": "stream",
     "text": [
      "Classes 'grouped_df', 'tbl_df', 'tbl' and 'data.frame':\t839 obs. of  15 variables:\n",
      " $ time    : Factor w/ 836 levels \"03:44:39\",\"03:45:26\",..: 1 2 3 4 5 6 7 8 9 10 ...\n",
      " $ activity: Factor w/ 14 levels \"brush_teeth\",..: 12 11 10 5 5 12 11 10 5 10 ...\n",
      " $ sex     : int  1 1 1 1 1 1 1 1 1 1 ...\n",
      " $ meanx   : num  -3.578 -3.164 0.774 2.301 2.542 ...\n",
      " $ meany   : num  3.197 4.259 0.894 3.312 3.664 ...\n",
      " $ meanz   : num  7.29 6.83 8.68 8.93 8.58 ...\n",
      " $ skewx   : num  -0.0274 -0.1195 0.4835 0.4539 0.2279 ...\n",
      " $ skewy   : num  0.126 0.579 -0.247 -0.86 -0.738 ...\n",
      " $ skewz   : num  -0.133 -0.11 0.505 0.222 -1.343 ...\n",
      " $ kurtx   : num  1.12 1.11 2.34 1.79 3.25 ...\n",
      " $ kurty   : num  1.51 3.38 1.28 2.14 2.04 ...\n",
      " $ kurtz   : num  1.18 1.25 3.49 3.77 14.14 ...\n",
      " $ corxy   : num  -0.922 0.668 0.746 -0.875 -0.863 ...\n",
      " $ coryz   : num  -0.9025 0.64259 0.18288 0.00785 -0.24656 ...\n",
      " $ corxz   : num  0.9702 0.9602 0.1979 -0.0617 0.2793 ...\n",
      " - attr(*, \"vars\")=List of 2\n",
      "  ..$ : symbol time\n",
      "  ..$ : symbol activity\n",
      " - attr(*, \"drop\")= logi TRUE\n"
     ]
    }
   ],
   "source": [
    "str(tidydata)"
   ]
  },
  {
   "cell_type": "code",
   "execution_count": 36,
   "metadata": {
    "collapsed": false
   },
   "outputs": [
    {
     "data": {
      "text/html": [
       "<table>\n",
       "<thead><tr><th></th><th scope=col>time</th><th scope=col>activity</th><th scope=col>sex</th><th scope=col>meanx</th><th scope=col>meany</th><th scope=col>meanz</th><th scope=col>skewx</th><th scope=col>skewy</th><th scope=col>skewz</th><th scope=col>kurtx</th><th scope=col>kurty</th><th scope=col>kurtz</th><th scope=col>corxy</th><th scope=col>coryz</th><th scope=col>corxz</th></tr></thead>\n",
       "<tbody>\n",
       "\t<tr><th scope=row>1</th><td>22:55:42</td><td>pour_water</td><td>1</td><td>0.9093283</td><td>4.75718</td><td>8.510822</td><td>0.7094381</td><td>0.3828775</td><td>-0.9865328</td><td>2.561929</td><td>3.08726</td><td>2.917773</td><td>0.5006523</td><td>-0.8305086</td><td>-0.5849474</td></tr>\n",
       "\t<tr><th scope=row>2</th><td>22:56:17</td><td>pour_water</td><td>1</td><td>0.9349958</td><td>3.61779</td><td>9.091388</td><td>0.6842496</td><td>-0.8364528</td><td>-1.096865</td><td>2.058639</td><td>3.138857</td><td>4.097483</td><td>0.1558556</td><td>-0.5733093</td><td>-0.5241642</td></tr>\n",
       "\t<tr><th scope=row>3</th><td>22:56:53</td><td>pour_water</td><td>1</td><td>0.8927775</td><td>3.848877</td><td>9.05875</td><td>0.6777009</td><td>-1.110205</td><td>-0.9161859</td><td>2.022125</td><td>3.429824</td><td>5.185233</td><td>0.2660951</td><td>-0.4817646</td><td>-0.5358357</td></tr>\n",
       "\t<tr><th scope=row>4</th><td>22:57:12</td><td>pour_water</td><td>1</td><td>0.6704957</td><td>4.172639</td><td>8.880476</td><td>0.8138613</td><td>-1.29202</td><td>0.102209</td><td>2.538405</td><td>3.488888</td><td>8.194766</td><td>0.08750191</td><td>-0.4711359</td><td>-0.274319</td></tr>\n",
       "\t<tr><th scope=row>5</th><td>22:58:08</td><td>pour_water</td><td>1</td><td>1.385292</td><td>4.204966</td><td>8.778705</td><td>0.6131496</td><td>-1.276138</td><td>-0.465504</td><td>2.245682</td><td>3.311632</td><td>4.540574</td><td>0.4131854</td><td>-0.5203285</td><td>-0.4861032</td></tr>\n",
       "\t<tr><th scope=row>6</th><td>22:58:28</td><td>pour_water</td><td>1</td><td>1.033631</td><td>3.997253</td><td>8.901426</td><td>0.7856782</td><td>-1.08727</td><td>-2.012581</td><td>2.444327</td><td>3.101872</td><td>16.39244</td><td>0.4017001</td><td>-0.4568608</td><td>-0.4421005</td></tr>\n",
       "</tbody>\n",
       "</table>\n"
      ],
      "text/latex": [
       "\\begin{tabular}{r|lllllllllllllll}\n",
       "  & time & activity & sex & meanx & meany & meanz & skewx & skewy & skewz & kurtx & kurty & kurtz & corxy & coryz & corxz\\\\\n",
       "\\hline\n",
       "\t1 & 22:55:42 & pour_water & 1 & 0.9093283 & 4.75718 & 8.510822 & 0.7094381 & 0.3828775 & -0.9865328 & 2.561929 & 3.08726 & 2.917773 & 0.5006523 & -0.8305086 & -0.5849474\\\\\n",
       "\t2 & 22:56:17 & pour_water & 1 & 0.9349958 & 3.61779 & 9.091388 & 0.6842496 & -0.8364528 & -1.096865 & 2.058639 & 3.138857 & 4.097483 & 0.1558556 & -0.5733093 & -0.5241642\\\\\n",
       "\t3 & 22:56:53 & pour_water & 1 & 0.8927775 & 3.848877 & 9.05875 & 0.6777009 & -1.110205 & -0.9161859 & 2.022125 & 3.429824 & 5.185233 & 0.2660951 & -0.4817646 & -0.5358357\\\\\n",
       "\t4 & 22:57:12 & pour_water & 1 & 0.6704957 & 4.172639 & 8.880476 & 0.8138613 & -1.29202 & 0.102209 & 2.538405 & 3.488888 & 8.194766 & 0.08750191 & -0.4711359 & -0.274319\\\\\n",
       "\t5 & 22:58:08 & pour_water & 1 & 1.385292 & 4.204966 & 8.778705 & 0.6131496 & -1.276138 & -0.465504 & 2.245682 & 3.311632 & 4.540574 & 0.4131854 & -0.5203285 & -0.4861032\\\\\n",
       "\t6 & 22:58:28 & pour_water & 1 & 1.033631 & 3.997253 & 8.901426 & 0.7856782 & -1.08727 & -2.012581 & 2.444327 & 3.101872 & 16.39244 & 0.4017001 & -0.4568608 & -0.4421005\\\\\n",
       "\\end{tabular}\n"
      ],
      "text/plain": [
       "Source: local data frame [6 x 15]\n",
       "Groups: time, activity [6]\n",
       "\n",
       "      time   activity   sex     meanx    meany    meanz     skewx      skewy\n",
       "    (fctr)     (fctr) (int)     (dbl)    (dbl)    (dbl)     (dbl)      (dbl)\n",
       "1 22:55:42 pour_water     1 0.9093283 4.757180 8.510822 0.7094381  0.3828775\n",
       "2 22:56:17 pour_water     1 0.9349958 3.617790 9.091388 0.6842496 -0.8364528\n",
       "3 22:56:53 pour_water     1 0.8927775 3.848877 9.058750 0.6777009 -1.1102049\n",
       "4 22:57:12 pour_water     1 0.6704957 4.172639 8.880476 0.8138613 -1.2920201\n",
       "5 22:58:08 pour_water     1 1.3852921 4.204966 8.778705 0.6131496 -1.2761376\n",
       "6 22:58:28 pour_water     1 1.0336308 3.997253 8.901426 0.7856782 -1.0872698\n",
       "Variables not shown: skewz (dbl), kurtx (dbl), kurty (dbl), kurtz (dbl), corxy\n",
       "  (dbl), coryz (dbl), corxz (dbl)"
      ]
     },
     "execution_count": 36,
     "metadata": {},
     "output_type": "execute_result"
    }
   ],
   "source": [
    "tail(tidydata)"
   ]
  },
  {
   "cell_type": "code",
   "execution_count": 37,
   "metadata": {
    "collapsed": true
   },
   "outputs": [],
   "source": [
    "tidydata$time <- NULL"
   ]
  },
  {
   "cell_type": "code",
   "execution_count": 38,
   "metadata": {
    "collapsed": false
   },
   "outputs": [
    {
     "data": {
      "text/html": [
       "<table>\n",
       "<thead><tr><th></th><th scope=col>activity</th><th scope=col>sex</th><th scope=col>meanx</th><th scope=col>meany</th><th scope=col>meanz</th><th scope=col>skewx</th><th scope=col>skewy</th><th scope=col>skewz</th><th scope=col>kurtx</th><th scope=col>kurty</th><th scope=col>kurtz</th><th scope=col>corxy</th><th scope=col>coryz</th><th scope=col>corxz</th></tr></thead>\n",
       "<tbody>\n",
       "\t<tr><th scope=row>1</th><td>standup_chair</td><td>1</td><td>-3.577941</td><td>3.19708</td><td>7.293908</td><td>-0.02743029</td><td>0.1256692</td><td>-0.1331527</td><td>1.116679</td><td>1.511332</td><td>1.18265</td><td>-0.9221761</td><td>-0.9025038</td><td>0.9702177</td></tr>\n",
       "\t<tr><th scope=row>2</th><td>sitdown_chair</td><td>1</td><td>-3.164217</td><td>4.258892</td><td>6.826107</td><td>-0.1194712</td><td>0.5794308</td><td>-0.1097923</td><td>1.106795</td><td>3.38443</td><td>1.248554</td><td>0.6679544</td><td>0.6425899</td><td>0.96022</td></tr>\n",
       "\t<tr><th scope=row>3</th><td>pour_water</td><td>1</td><td>0.7739084</td><td>0.8936094</td><td>8.676544</td><td>0.4834989</td><td>-0.2466208</td><td>0.5049835</td><td>2.338528</td><td>1.282156</td><td>3.489376</td><td>0.7461314</td><td>0.1828762</td><td>0.1979201</td></tr>\n",
       "\t<tr><th scope=row>4</th><td>drink_glass</td><td>1</td><td>2.300959</td><td>3.311903</td><td>8.927909</td><td>0.4539398</td><td>-0.8603673</td><td>0.2220048</td><td>1.78886</td><td>2.139986</td><td>3.773488</td><td>-0.8746166</td><td>0.007853708</td><td>-0.06172179</td></tr>\n",
       "\t<tr><th scope=row>5</th><td>drink_glass</td><td>1</td><td>2.541931</td><td>3.663932</td><td>8.580743</td><td>0.2279045</td><td>-0.7378359</td><td>-1.342537</td><td>3.249835</td><td>2.044912</td><td>14.14306</td><td>-0.8632525</td><td>-0.2465573</td><td>0.2792758</td></tr>\n",
       "\t<tr><th scope=row>6</th><td>standup_chair</td><td>1</td><td>-5.170489</td><td>5.108228</td><td>5.11284</td><td>0.9050761</td><td>0.9603296</td><td>0.6652821</td><td>1.96315</td><td>3.165712</td><td>1.744554</td><td>0.8518449</td><td>0.858185</td><td>0.956636</td></tr>\n",
       "</tbody>\n",
       "</table>\n"
      ],
      "text/latex": [
       "\\begin{tabular}{r|llllllllllllll}\n",
       "  & activity & sex & meanx & meany & meanz & skewx & skewy & skewz & kurtx & kurty & kurtz & corxy & coryz & corxz\\\\\n",
       "\\hline\n",
       "\t1 & standup_chair & 1 & -3.577941 & 3.19708 & 7.293908 & -0.02743029 & 0.1256692 & -0.1331527 & 1.116679 & 1.511332 & 1.18265 & -0.9221761 & -0.9025038 & 0.9702177\\\\\n",
       "\t2 & sitdown_chair & 1 & -3.164217 & 4.258892 & 6.826107 & -0.1194712 & 0.5794308 & -0.1097923 & 1.106795 & 3.38443 & 1.248554 & 0.6679544 & 0.6425899 & 0.96022\\\\\n",
       "\t3 & pour_water & 1 & 0.7739084 & 0.8936094 & 8.676544 & 0.4834989 & -0.2466208 & 0.5049835 & 2.338528 & 1.282156 & 3.489376 & 0.7461314 & 0.1828762 & 0.1979201\\\\\n",
       "\t4 & drink_glass & 1 & 2.300959 & 3.311903 & 8.927909 & 0.4539398 & -0.8603673 & 0.2220048 & 1.78886 & 2.139986 & 3.773488 & -0.8746166 & 0.007853708 & -0.06172179\\\\\n",
       "\t5 & drink_glass & 1 & 2.541931 & 3.663932 & 8.580743 & 0.2279045 & -0.7378359 & -1.342537 & 3.249835 & 2.044912 & 14.14306 & -0.8632525 & -0.2465573 & 0.2792758\\\\\n",
       "\t6 & standup_chair & 1 & -5.170489 & 5.108228 & 5.11284 & 0.9050761 & 0.9603296 & 0.6652821 & 1.96315 & 3.165712 & 1.744554 & 0.8518449 & 0.858185 & 0.956636\\\\\n",
       "\\end{tabular}\n"
      ],
      "text/plain": [
       "Source: local data frame [6 x 14]\n",
       "\n",
       "       activity   sex      meanx     meany    meanz       skewx      skewy\n",
       "         (fctr) (int)      (dbl)     (dbl)    (dbl)       (dbl)      (dbl)\n",
       "1 standup_chair     1 -3.5779407 3.1970798 7.293908 -0.02743029  0.1256692\n",
       "2 sitdown_chair     1 -3.1642168 4.2588924 6.826107 -0.11947115  0.5794308\n",
       "3    pour_water     1  0.7739084 0.8936094 8.676544  0.48349893 -0.2466208\n",
       "4   drink_glass     1  2.3009590 3.3119030 8.927909  0.45393983 -0.8603673\n",
       "5   drink_glass     1  2.5419309 3.6639320 8.580743  0.22790451 -0.7378359\n",
       "6 standup_chair     1 -5.1704888 5.1082285 5.112840  0.90507609  0.9603296\n",
       "Variables not shown: skewz (dbl), kurtx (dbl), kurty (dbl), kurtz (dbl), corxy\n",
       "  (dbl), coryz (dbl), corxz (dbl)"
      ]
     },
     "execution_count": 38,
     "metadata": {},
     "output_type": "execute_result"
    }
   ],
   "source": [
    "head(tidydata)"
   ]
  },
  {
   "cell_type": "code",
   "execution_count": 39,
   "metadata": {
    "collapsed": true
   },
   "outputs": [],
   "source": [
    "write.table(tidydata, \"tidy.csv\",sep=\" \")"
   ]
  },
  {
   "cell_type": "markdown",
   "metadata": {},
   "source": []
  },
  {
   "cell_type": "markdown",
   "metadata": {
    "collapsed": true
   },
   "source": []
  }
 ],
 "metadata": {
  "kernelspec": {
   "display_name": "R",
   "language": "R",
   "name": "ir"
  },
  "language_info": {
   "codemirror_mode": "r",
   "file_extension": ".r",
   "mimetype": "text/x-r-source",
   "name": "R",
   "pygments_lexer": "r",
   "version": "3.2.3"
  }
 },
 "nbformat": 4,
 "nbformat_minor": 0
}
