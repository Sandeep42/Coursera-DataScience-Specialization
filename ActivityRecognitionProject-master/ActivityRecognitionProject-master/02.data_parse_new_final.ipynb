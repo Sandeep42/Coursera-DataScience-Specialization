{
 "cells": [
  {
   "cell_type": "code",
   "execution_count": 11,
   "metadata": {
    "collapsed": true
   },
   "outputs": [],
   "source": [
    "freq = 32"
   ]
  },
  {
   "cell_type": "code",
   "execution_count": 1,
   "metadata": {
    "collapsed": true
   },
   "outputs": [],
   "source": [
    "convertacc = function(data){\n",
    "    # From codebook\n",
    "    -14.709 + (data/63)*(2*14.709)\n",
    "}"
   ]
  },
  {
   "cell_type": "code",
   "execution_count": 2,
   "metadata": {
    "collapsed": true
   },
   "outputs": [],
   "source": [
    "filepaths <-list.files(path = \"C:/Users/Sandeep/Notebooks/NanoLocalProject\", recursive = TRUE,pattern=\"*.txt\")"
   ]
  },
  {
   "cell_type": "code",
   "execution_count": 3,
   "metadata": {
    "collapsed": false
   },
   "outputs": [
    {
     "data": {
      "text/html": [
       "979"
      ],
      "text/latex": [
       "979"
      ],
      "text/markdown": [
       "979"
      ],
      "text/plain": [
       "[1] 979"
      ]
     },
     "execution_count": 3,
     "metadata": {},
     "output_type": "execute_result"
    }
   ],
   "source": [
    "length(filepaths)"
   ]
  },
  {
   "cell_type": "code",
   "execution_count": 4,
   "metadata": {
    "collapsed": true
   },
   "outputs": [],
   "source": [
    "data <- data.frame(\n",
    "id=character(),\n",
    "x=numeric(),\n",
    "y=numeric(),\n",
    "z=numeric(),\n",
    "activity= character(),\n",
    "date=character(),\n",
    "time=character()\n",
    ")"
   ]
  },
  {
   "cell_type": "code",
   "execution_count": 5,
   "metadata": {
    "collapsed": true
   },
   "outputs": [],
   "source": [
    "for(file in filepaths) {\n",
    "    new <- read.table(file,sep=\" \", header=FALSE)\n",
    "    string <- unlist(strsplit(file, \"-\"))\n",
    "    new$id <- unlist(strsplit(string[9], \"[.]\"))[1]\n",
    "    new$activity <- string[8]\n",
    "    new$date <- paste(string[2],string[3],string[4],sep=\"-\")\n",
    "    new$time <- paste(string[5],string[6],string[7],sep=\":\")\n",
    "    data <- rbind(data, new)    \n",
    "}"
   ]
  },
  {
   "cell_type": "code",
   "execution_count": 6,
   "metadata": {
    "collapsed": false
   },
   "outputs": [
    {
     "data": {
      "text/html": [
       "<ol class=list-inline>\n",
       "\t<li>479289</li>\n",
       "\t<li>7</li>\n",
       "</ol>\n"
      ],
      "text/latex": [
       "\\begin{enumerate*}\n",
       "\\item 479289\n",
       "\\item 7\n",
       "\\end{enumerate*}\n"
      ],
      "text/markdown": [
       "1. 479289\n",
       "2. 7\n",
       "\n",
       "\n"
      ],
      "text/plain": [
       "[1] 479289      7"
      ]
     },
     "execution_count": 6,
     "metadata": {},
     "output_type": "execute_result"
    }
   ],
   "source": [
    "dim(data)"
   ]
  },
  {
   "cell_type": "code",
   "execution_count": 7,
   "metadata": {
    "collapsed": false
   },
   "outputs": [
    {
     "data": {
      "text/html": [
       "<table>\n",
       "<thead><tr><th></th><th scope=col>V1</th><th scope=col>V2</th><th scope=col>V3</th><th scope=col>id</th><th scope=col>activity</th><th scope=col>date</th><th scope=col>time</th></tr></thead>\n",
       "<tbody>\n",
       "\t<tr><th scope=row>1</th><td>22</td><td>49</td><td>35</td><td>f1</td><td>brush_teeth</td><td>2011-04-11</td><td>13:28:18</td></tr>\n",
       "\t<tr><th scope=row>2</th><td>22</td><td>49</td><td>35</td><td>f1</td><td>brush_teeth</td><td>2011-04-11</td><td>13:28:18</td></tr>\n",
       "\t<tr><th scope=row>3</th><td>22</td><td>52</td><td>35</td><td>f1</td><td>brush_teeth</td><td>2011-04-11</td><td>13:28:18</td></tr>\n",
       "\t<tr><th scope=row>4</th><td>22</td><td>52</td><td>35</td><td>f1</td><td>brush_teeth</td><td>2011-04-11</td><td>13:28:18</td></tr>\n",
       "\t<tr><th scope=row>5</th><td>21</td><td>52</td><td>34</td><td>f1</td><td>brush_teeth</td><td>2011-04-11</td><td>13:28:18</td></tr>\n",
       "\t<tr><th scope=row>6</th><td>22</td><td>51</td><td>34</td><td>f1</td><td>brush_teeth</td><td>2011-04-11</td><td>13:28:18</td></tr>\n",
       "</tbody>\n",
       "</table>\n"
      ],
      "text/latex": [
       "\\begin{tabular}{r|lllllll}\n",
       "  & V1 & V2 & V3 & id & activity & date & time\\\\\n",
       "\\hline\n",
       "\t1 & 22 & 49 & 35 & f1 & brush_teeth & 2011-04-11 & 13:28:18\\\\\n",
       "\t2 & 22 & 49 & 35 & f1 & brush_teeth & 2011-04-11 & 13:28:18\\\\\n",
       "\t3 & 22 & 52 & 35 & f1 & brush_teeth & 2011-04-11 & 13:28:18\\\\\n",
       "\t4 & 22 & 52 & 35 & f1 & brush_teeth & 2011-04-11 & 13:28:18\\\\\n",
       "\t5 & 21 & 52 & 34 & f1 & brush_teeth & 2011-04-11 & 13:28:18\\\\\n",
       "\t6 & 22 & 51 & 34 & f1 & brush_teeth & 2011-04-11 & 13:28:18\\\\\n",
       "\\end{tabular}\n"
      ],
      "text/plain": [
       "  V1 V2 V3 id    activity       date     time\n",
       "1 22 49 35 f1 brush_teeth 2011-04-11 13:28:18\n",
       "2 22 49 35 f1 brush_teeth 2011-04-11 13:28:18\n",
       "3 22 52 35 f1 brush_teeth 2011-04-11 13:28:18\n",
       "4 22 52 35 f1 brush_teeth 2011-04-11 13:28:18\n",
       "5 21 52 34 f1 brush_teeth 2011-04-11 13:28:18\n",
       "6 22 51 34 f1 brush_teeth 2011-04-11 13:28:18"
      ]
     },
     "execution_count": 7,
     "metadata": {},
     "output_type": "execute_result"
    }
   ],
   "source": [
    "head(data)"
   ]
  },
  {
   "cell_type": "code",
   "execution_count": 8,
   "metadata": {
    "collapsed": true
   },
   "outputs": [],
   "source": [
    "data[1:3] <- lapply(data[1:3], convertacc)"
   ]
  },
  {
   "cell_type": "code",
   "execution_count": 9,
   "metadata": {
    "collapsed": false
   },
   "outputs": [
    {
     "data": {
      "text/html": [
       "<table>\n",
       "<thead><tr><th></th><th scope=col>V1</th><th scope=col>V2</th><th scope=col>V3</th><th scope=col>id</th><th scope=col>activity</th><th scope=col>date</th><th scope=col>time</th></tr></thead>\n",
       "<tbody>\n",
       "\t<tr><th scope=row>1</th><td>-4.436048</td><td>8.171667</td><td>1.634333</td><td>f1</td><td>brush_teeth</td><td>2011-04-11</td><td>13:28:18</td></tr>\n",
       "\t<tr><th scope=row>2</th><td>-4.436048</td><td>8.171667</td><td>1.634333</td><td>f1</td><td>brush_teeth</td><td>2011-04-11</td><td>13:28:18</td></tr>\n",
       "\t<tr><th scope=row>3</th><td>-4.436048</td><td>9.572524</td><td>1.634333</td><td>f1</td><td>brush_teeth</td><td>2011-04-11</td><td>13:28:18</td></tr>\n",
       "\t<tr><th scope=row>4</th><td>-4.436048</td><td>9.572524</td><td>1.634333</td><td>f1</td><td>brush_teeth</td><td>2011-04-11</td><td>13:28:18</td></tr>\n",
       "\t<tr><th scope=row>5</th><td>-4.903</td><td>9.572524</td><td>1.167381</td><td>f1</td><td>brush_teeth</td><td>2011-04-11</td><td>13:28:18</td></tr>\n",
       "\t<tr><th scope=row>6</th><td>-4.436048</td><td>9.105571</td><td>1.167381</td><td>f1</td><td>brush_teeth</td><td>2011-04-11</td><td>13:28:18</td></tr>\n",
       "</tbody>\n",
       "</table>\n"
      ],
      "text/latex": [
       "\\begin{tabular}{r|lllllll}\n",
       "  & V1 & V2 & V3 & id & activity & date & time\\\\\n",
       "\\hline\n",
       "\t1 & -4.436048 & 8.171667 & 1.634333 & f1 & brush_teeth & 2011-04-11 & 13:28:18\\\\\n",
       "\t2 & -4.436048 & 8.171667 & 1.634333 & f1 & brush_teeth & 2011-04-11 & 13:28:18\\\\\n",
       "\t3 & -4.436048 & 9.572524 & 1.634333 & f1 & brush_teeth & 2011-04-11 & 13:28:18\\\\\n",
       "\t4 & -4.436048 & 9.572524 & 1.634333 & f1 & brush_teeth & 2011-04-11 & 13:28:18\\\\\n",
       "\t5 & -4.903 & 9.572524 & 1.167381 & f1 & brush_teeth & 2011-04-11 & 13:28:18\\\\\n",
       "\t6 & -4.436048 & 9.105571 & 1.167381 & f1 & brush_teeth & 2011-04-11 & 13:28:18\\\\\n",
       "\\end{tabular}\n"
      ],
      "text/plain": [
       "         V1       V2       V3 id    activity       date     time\n",
       "1 -4.436048 8.171667 1.634333 f1 brush_teeth 2011-04-11 13:28:18\n",
       "2 -4.436048 8.171667 1.634333 f1 brush_teeth 2011-04-11 13:28:18\n",
       "3 -4.436048 9.572524 1.634333 f1 brush_teeth 2011-04-11 13:28:18\n",
       "4 -4.436048 9.572524 1.634333 f1 brush_teeth 2011-04-11 13:28:18\n",
       "5 -4.903000 9.572524 1.167381 f1 brush_teeth 2011-04-11 13:28:18\n",
       "6 -4.436048 9.105571 1.167381 f1 brush_teeth 2011-04-11 13:28:18"
      ]
     },
     "execution_count": 9,
     "metadata": {},
     "output_type": "execute_result"
    }
   ],
   "source": [
    "head(data)"
   ]
  },
  {
   "cell_type": "code",
   "execution_count": 21,
   "metadata": {
    "collapsed": true
   },
   "outputs": [],
   "source": [
    "names(data) <- c(\"ax\",\"ay\",\"az\",\"id\",\"activity\",\"date\",\"time\")"
   ]
  },
  {
   "cell_type": "code",
   "execution_count": 10,
   "metadata": {
    "collapsed": false
   },
   "outputs": [
    {
     "data": {
      "text/html": [
       "<table>\n",
       "<thead><tr><th></th><th scope=col>V1</th><th scope=col>V2</th><th scope=col>V3</th><th scope=col>id</th><th scope=col>activity</th><th scope=col>date</th><th scope=col>time</th></tr></thead>\n",
       "<tbody>\n",
       "\t<tr><th scope=row>1</th><td>-4.436048</td><td>8.171667</td><td>1.634333</td><td>f1</td><td>brush_teeth</td><td>2011-04-11</td><td>13:28:18</td></tr>\n",
       "\t<tr><th scope=row>2</th><td>-4.436048</td><td>8.171667</td><td>1.634333</td><td>f1</td><td>brush_teeth</td><td>2011-04-11</td><td>13:28:18</td></tr>\n",
       "\t<tr><th scope=row>3</th><td>-4.436048</td><td>9.572524</td><td>1.634333</td><td>f1</td><td>brush_teeth</td><td>2011-04-11</td><td>13:28:18</td></tr>\n",
       "\t<tr><th scope=row>4</th><td>-4.436048</td><td>9.572524</td><td>1.634333</td><td>f1</td><td>brush_teeth</td><td>2011-04-11</td><td>13:28:18</td></tr>\n",
       "\t<tr><th scope=row>5</th><td>-4.903</td><td>9.572524</td><td>1.167381</td><td>f1</td><td>brush_teeth</td><td>2011-04-11</td><td>13:28:18</td></tr>\n",
       "\t<tr><th scope=row>6</th><td>-4.436048</td><td>9.105571</td><td>1.167381</td><td>f1</td><td>brush_teeth</td><td>2011-04-11</td><td>13:28:18</td></tr>\n",
       "</tbody>\n",
       "</table>\n"
      ],
      "text/latex": [
       "\\begin{tabular}{r|lllllll}\n",
       "  & V1 & V2 & V3 & id & activity & date & time\\\\\n",
       "\\hline\n",
       "\t1 & -4.436048 & 8.171667 & 1.634333 & f1 & brush_teeth & 2011-04-11 & 13:28:18\\\\\n",
       "\t2 & -4.436048 & 8.171667 & 1.634333 & f1 & brush_teeth & 2011-04-11 & 13:28:18\\\\\n",
       "\t3 & -4.436048 & 9.572524 & 1.634333 & f1 & brush_teeth & 2011-04-11 & 13:28:18\\\\\n",
       "\t4 & -4.436048 & 9.572524 & 1.634333 & f1 & brush_teeth & 2011-04-11 & 13:28:18\\\\\n",
       "\t5 & -4.903 & 9.572524 & 1.167381 & f1 & brush_teeth & 2011-04-11 & 13:28:18\\\\\n",
       "\t6 & -4.436048 & 9.105571 & 1.167381 & f1 & brush_teeth & 2011-04-11 & 13:28:18\\\\\n",
       "\\end{tabular}\n"
      ],
      "text/plain": [
       "         V1       V2       V3 id    activity       date     time\n",
       "1 -4.436048 8.171667 1.634333 f1 brush_teeth 2011-04-11 13:28:18\n",
       "2 -4.436048 8.171667 1.634333 f1 brush_teeth 2011-04-11 13:28:18\n",
       "3 -4.436048 9.572524 1.634333 f1 brush_teeth 2011-04-11 13:28:18\n",
       "4 -4.436048 9.572524 1.634333 f1 brush_teeth 2011-04-11 13:28:18\n",
       "5 -4.903000 9.572524 1.167381 f1 brush_teeth 2011-04-11 13:28:18\n",
       "6 -4.436048 9.105571 1.167381 f1 brush_teeth 2011-04-11 13:28:18"
      ]
     },
     "execution_count": 10,
     "metadata": {},
     "output_type": "execute_result"
    },
    {
     "name": "stderr",
     "output_type": "stream",
     "text": [
      "\n",
      "Attaching package: 'dplyr'\n",
      "\n",
      "The following objects are masked from 'package:stats':\n",
      "\n",
      "    filter, lag\n",
      "\n",
      "The following objects are masked from 'package:base':\n",
      "\n",
      "    intersect, setdiff, setequal, union\n",
      "\n"
     ]
    }
   ],
   "source": [
    "head(data)\n",
    "library(dplyr)"
   ]
  },
  {
   "cell_type": "code",
   "execution_count": 11,
   "metadata": {
    "collapsed": false
   },
   "outputs": [
    {
     "data": {
      "text/html": [
       "<table>\n",
       "<thead><tr><th></th><th scope=col>V1</th><th scope=col>V2</th><th scope=col>V3</th><th scope=col>id</th><th scope=col>activity</th><th scope=col>date</th><th scope=col>time</th></tr></thead>\n",
       "<tbody>\n",
       "\t<tr><th scope=row>1</th><td>-4.436048</td><td>8.171667</td><td>1.634333</td><td>f1</td><td>brush_teeth</td><td>2011-04-11</td><td>13:28:18</td></tr>\n",
       "\t<tr><th scope=row>2</th><td>-4.436048</td><td>8.171667</td><td>1.634333</td><td>f1</td><td>brush_teeth</td><td>2011-04-11</td><td>13:28:18</td></tr>\n",
       "\t<tr><th scope=row>3</th><td>-4.436048</td><td>9.572524</td><td>1.634333</td><td>f1</td><td>brush_teeth</td><td>2011-04-11</td><td>13:28:18</td></tr>\n",
       "\t<tr><th scope=row>4</th><td>-4.436048</td><td>9.572524</td><td>1.634333</td><td>f1</td><td>brush_teeth</td><td>2011-04-11</td><td>13:28:18</td></tr>\n",
       "\t<tr><th scope=row>5</th><td>-4.903</td><td>9.572524</td><td>1.167381</td><td>f1</td><td>brush_teeth</td><td>2011-04-11</td><td>13:28:18</td></tr>\n",
       "\t<tr><th scope=row>6</th><td>-4.436048</td><td>9.105571</td><td>1.167381</td><td>f1</td><td>brush_teeth</td><td>2011-04-11</td><td>13:28:18</td></tr>\n",
       "</tbody>\n",
       "</table>\n"
      ],
      "text/latex": [
       "\\begin{tabular}{r|lllllll}\n",
       "  & V1 & V2 & V3 & id & activity & date & time\\\\\n",
       "\\hline\n",
       "\t1 & -4.436048 & 8.171667 & 1.634333 & f1 & brush_teeth & 2011-04-11 & 13:28:18\\\\\n",
       "\t2 & -4.436048 & 8.171667 & 1.634333 & f1 & brush_teeth & 2011-04-11 & 13:28:18\\\\\n",
       "\t3 & -4.436048 & 9.572524 & 1.634333 & f1 & brush_teeth & 2011-04-11 & 13:28:18\\\\\n",
       "\t4 & -4.436048 & 9.572524 & 1.634333 & f1 & brush_teeth & 2011-04-11 & 13:28:18\\\\\n",
       "\t5 & -4.903 & 9.572524 & 1.167381 & f1 & brush_teeth & 2011-04-11 & 13:28:18\\\\\n",
       "\t6 & -4.436048 & 9.105571 & 1.167381 & f1 & brush_teeth & 2011-04-11 & 13:28:18\\\\\n",
       "\\end{tabular}\n"
      ],
      "text/plain": [
       "         V1       V2       V3 id    activity       date     time\n",
       "1 -4.436048 8.171667 1.634333 f1 brush_teeth 2011-04-11 13:28:18\n",
       "2 -4.436048 8.171667 1.634333 f1 brush_teeth 2011-04-11 13:28:18\n",
       "3 -4.436048 9.572524 1.634333 f1 brush_teeth 2011-04-11 13:28:18\n",
       "4 -4.436048 9.572524 1.634333 f1 brush_teeth 2011-04-11 13:28:18\n",
       "5 -4.903000 9.572524 1.167381 f1 brush_teeth 2011-04-11 13:28:18\n",
       "6 -4.436048 9.105571 1.167381 f1 brush_teeth 2011-04-11 13:28:18"
      ]
     },
     "execution_count": 11,
     "metadata": {},
     "output_type": "execute_result"
    }
   ],
   "source": [
    "head(data)"
   ]
  },
  {
   "cell_type": "code",
   "execution_count": 13,
   "metadata": {
    "collapsed": false
   },
   "outputs": [
    {
     "data": {
      "text/html": [
       "<table>\n",
       "<thead><tr><th></th><th scope=col>V1</th><th scope=col>V2</th><th scope=col>V3</th><th scope=col>id</th><th scope=col>activity</th><th scope=col>date</th><th scope=col>time</th><th scope=col>sex</th></tr></thead>\n",
       "<tbody>\n",
       "\t<tr><th scope=row>1</th><td>-4.436048</td><td>8.171667</td><td>1.634333</td><td>f1</td><td>brush_teeth</td><td>2011-04-11</td><td>13:28:18</td><td>FALSE</td></tr>\n",
       "\t<tr><th scope=row>2</th><td>-4.436048</td><td>8.171667</td><td>1.634333</td><td>f1</td><td>brush_teeth</td><td>2011-04-11</td><td>13:28:18</td><td>FALSE</td></tr>\n",
       "\t<tr><th scope=row>3</th><td>-4.436048</td><td>9.572524</td><td>1.634333</td><td>f1</td><td>brush_teeth</td><td>2011-04-11</td><td>13:28:18</td><td>FALSE</td></tr>\n",
       "\t<tr><th scope=row>4</th><td>-4.436048</td><td>9.572524</td><td>1.634333</td><td>f1</td><td>brush_teeth</td><td>2011-04-11</td><td>13:28:18</td><td>FALSE</td></tr>\n",
       "\t<tr><th scope=row>5</th><td>-4.903</td><td>9.572524</td><td>1.167381</td><td>f1</td><td>brush_teeth</td><td>2011-04-11</td><td>13:28:18</td><td>FALSE</td></tr>\n",
       "\t<tr><th scope=row>6</th><td>-4.436048</td><td>9.105571</td><td>1.167381</td><td>f1</td><td>brush_teeth</td><td>2011-04-11</td><td>13:28:18</td><td>FALSE</td></tr>\n",
       "</tbody>\n",
       "</table>\n"
      ],
      "text/latex": [
       "\\begin{tabular}{r|llllllll}\n",
       "  & V1 & V2 & V3 & id & activity & date & time & sex\\\\\n",
       "\\hline\n",
       "\t1 & -4.436048 & 8.171667 & 1.634333 & f1 & brush_teeth & 2011-04-11 & 13:28:18 & FALSE\\\\\n",
       "\t2 & -4.436048 & 8.171667 & 1.634333 & f1 & brush_teeth & 2011-04-11 & 13:28:18 & FALSE\\\\\n",
       "\t3 & -4.436048 & 9.572524 & 1.634333 & f1 & brush_teeth & 2011-04-11 & 13:28:18 & FALSE\\\\\n",
       "\t4 & -4.436048 & 9.572524 & 1.634333 & f1 & brush_teeth & 2011-04-11 & 13:28:18 & FALSE\\\\\n",
       "\t5 & -4.903 & 9.572524 & 1.167381 & f1 & brush_teeth & 2011-04-11 & 13:28:18 & FALSE\\\\\n",
       "\t6 & -4.436048 & 9.105571 & 1.167381 & f1 & brush_teeth & 2011-04-11 & 13:28:18 & FALSE\\\\\n",
       "\\end{tabular}\n"
      ],
      "text/plain": [
       "         V1       V2       V3 id    activity       date     time   sex\n",
       "1 -4.436048 8.171667 1.634333 f1 brush_teeth 2011-04-11 13:28:18 FALSE\n",
       "2 -4.436048 8.171667 1.634333 f1 brush_teeth 2011-04-11 13:28:18 FALSE\n",
       "3 -4.436048 9.572524 1.634333 f1 brush_teeth 2011-04-11 13:28:18 FALSE\n",
       "4 -4.436048 9.572524 1.634333 f1 brush_teeth 2011-04-11 13:28:18 FALSE\n",
       "5 -4.903000 9.572524 1.167381 f1 brush_teeth 2011-04-11 13:28:18 FALSE\n",
       "6 -4.436048 9.105571 1.167381 f1 brush_teeth 2011-04-11 13:28:18 FALSE"
      ]
     },
     "execution_count": 13,
     "metadata": {},
     "output_type": "execute_result"
    }
   ],
   "source": [
    "data$sex <- grepl(\"m\", data$id)\n",
    "head(data)"
   ]
  },
  {
   "cell_type": "code",
   "execution_count": 17,
   "metadata": {
    "collapsed": false
   },
   "outputs": [],
   "source": [
    "data$sex<- (data$sex)*1"
   ]
  },
  {
   "cell_type": "code",
   "execution_count": 18,
   "metadata": {
    "collapsed": false
   },
   "outputs": [
    {
     "data": {
      "text/html": [
       "<table>\n",
       "<thead><tr><th></th><th scope=col>V1</th><th scope=col>V2</th><th scope=col>V3</th><th scope=col>id</th><th scope=col>activity</th><th scope=col>date</th><th scope=col>time</th><th scope=col>sex</th></tr></thead>\n",
       "<tbody>\n",
       "\t<tr><th scope=row>1</th><td>-4.436048</td><td>8.171667</td><td>1.634333</td><td>f1</td><td>brush_teeth</td><td>2011-04-11</td><td>13:28:18</td><td>0</td></tr>\n",
       "\t<tr><th scope=row>2</th><td>-4.436048</td><td>8.171667</td><td>1.634333</td><td>f1</td><td>brush_teeth</td><td>2011-04-11</td><td>13:28:18</td><td>0</td></tr>\n",
       "\t<tr><th scope=row>3</th><td>-4.436048</td><td>9.572524</td><td>1.634333</td><td>f1</td><td>brush_teeth</td><td>2011-04-11</td><td>13:28:18</td><td>0</td></tr>\n",
       "\t<tr><th scope=row>4</th><td>-4.436048</td><td>9.572524</td><td>1.634333</td><td>f1</td><td>brush_teeth</td><td>2011-04-11</td><td>13:28:18</td><td>0</td></tr>\n",
       "\t<tr><th scope=row>5</th><td>-4.903</td><td>9.572524</td><td>1.167381</td><td>f1</td><td>brush_teeth</td><td>2011-04-11</td><td>13:28:18</td><td>0</td></tr>\n",
       "\t<tr><th scope=row>6</th><td>-4.436048</td><td>9.105571</td><td>1.167381</td><td>f1</td><td>brush_teeth</td><td>2011-04-11</td><td>13:28:18</td><td>0</td></tr>\n",
       "</tbody>\n",
       "</table>\n"
      ],
      "text/latex": [
       "\\begin{tabular}{r|llllllll}\n",
       "  & V1 & V2 & V3 & id & activity & date & time & sex\\\\\n",
       "\\hline\n",
       "\t1 & -4.436048 & 8.171667 & 1.634333 & f1 & brush_teeth & 2011-04-11 & 13:28:18 & 0\\\\\n",
       "\t2 & -4.436048 & 8.171667 & 1.634333 & f1 & brush_teeth & 2011-04-11 & 13:28:18 & 0\\\\\n",
       "\t3 & -4.436048 & 9.572524 & 1.634333 & f1 & brush_teeth & 2011-04-11 & 13:28:18 & 0\\\\\n",
       "\t4 & -4.436048 & 9.572524 & 1.634333 & f1 & brush_teeth & 2011-04-11 & 13:28:18 & 0\\\\\n",
       "\t5 & -4.903 & 9.572524 & 1.167381 & f1 & brush_teeth & 2011-04-11 & 13:28:18 & 0\\\\\n",
       "\t6 & -4.436048 & 9.105571 & 1.167381 & f1 & brush_teeth & 2011-04-11 & 13:28:18 & 0\\\\\n",
       "\\end{tabular}\n"
      ],
      "text/plain": [
       "         V1       V2       V3 id    activity       date     time sex\n",
       "1 -4.436048 8.171667 1.634333 f1 brush_teeth 2011-04-11 13:28:18   0\n",
       "2 -4.436048 8.171667 1.634333 f1 brush_teeth 2011-04-11 13:28:18   0\n",
       "3 -4.436048 9.572524 1.634333 f1 brush_teeth 2011-04-11 13:28:18   0\n",
       "4 -4.436048 9.572524 1.634333 f1 brush_teeth 2011-04-11 13:28:18   0\n",
       "5 -4.903000 9.572524 1.167381 f1 brush_teeth 2011-04-11 13:28:18   0\n",
       "6 -4.436048 9.105571 1.167381 f1 brush_teeth 2011-04-11 13:28:18   0"
      ]
     },
     "execution_count": 18,
     "metadata": {},
     "output_type": "execute_result"
    }
   ],
   "source": [
    "head(data)"
   ]
  },
  {
   "cell_type": "code",
   "execution_count": 20,
   "metadata": {
    "collapsed": false
   },
   "outputs": [],
   "source": [
    "write.table(data,\"data_combined.csv\", sep=\" \")"
   ]
  },
  {
   "cell_type": "code",
   "execution_count": null,
   "metadata": {
    "collapsed": true
   },
   "outputs": [],
   "source": []
  }
 ],
 "metadata": {
  "kernelspec": {
   "display_name": "R",
   "language": "R",
   "name": "ir"
  },
  "language_info": {
   "codemirror_mode": "r",
   "file_extension": ".r",
   "mimetype": "text/x-r-source",
   "name": "R",
   "pygments_lexer": "r",
   "version": "3.2.3"
  }
 },
 "nbformat": 4,
 "nbformat_minor": 0
}
